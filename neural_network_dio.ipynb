{
  "nbformat": 4,
  "nbformat_minor": 0,
  "metadata": {
    "colab": {
      "provenance": [],
      "authorship_tag": "ABX9TyOEC9rqYQehT1EheIKlRTxs",
      "include_colab_link": true
    },
    "kernelspec": {
      "name": "python3",
      "display_name": "Python 3"
    },
    "language_info": {
      "name": "python"
    }
  },
  "cells": [
    {
      "cell_type": "markdown",
      "metadata": {
        "id": "view-in-github",
        "colab_type": "text"
      },
      "source": [
        "<a href=\"https://colab.research.google.com/github/AndreiKwok/ML/blob/Develop/neural_network_dio.ipynb\" target=\"_parent\"><img src=\"https://colab.research.google.com/assets/colab-badge.svg\" alt=\"Open In Colab\"/></a>"
      ]
    },
    {
      "cell_type": "code",
      "execution_count": 14,
      "metadata": {
        "id": "CpSr7C44jaes"
      },
      "outputs": [],
      "source": [
        "import numpy as np\n",
        "import torch\n",
        "import torch.nn.functional as F\n",
        "import matplotlib.pyplot as plt\n",
        "from torchvision import datasets,transforms\n",
        "from torch import nn, optim\n",
        "from time import time"
      ]
    },
    {
      "cell_type": "code",
      "source": [
        "transform = transforms.ToTensor()\n",
        "trainset = datasets.MNIST(root='./data', train=True, download=True, transform=transform) #Download the part of dataset train\n",
        "trainloader = torch.utils.data.DataLoader(trainset, batch_size=64, shuffle=True) # create a buffer to get the data's by part\n",
        "\n",
        "valset = datasets.MNIST(root='./data', train=False, download=True, transform=transform)\n",
        "valloader = torch.utils.data.DataLoader(valset, batch_size=64, shuffle=True)"
      ],
      "metadata": {
        "id": "m0Atd2Jid4mp"
      },
      "execution_count": 15,
      "outputs": []
    },
    {
      "cell_type": "code",
      "source": [
        "dataiter = iter(trainloader)\n",
        "images, labels = next(dataiter)\n",
        "plt.imshow(images[0].numpy().squeeze(), cmap='gray_r')\n"
      ],
      "metadata": {
        "colab": {
          "base_uri": "https://localhost:8080/",
          "height": 447
        },
        "id": "ddf_o6tBfTZ8",
        "outputId": "02b153af-0f01-40fe-bb7f-8732edfbe6cf"
      },
      "execution_count": 16,
      "outputs": [
        {
          "output_type": "execute_result",
          "data": {
            "text/plain": [
              "<matplotlib.image.AxesImage at 0x7c3782fa29b0>"
            ]
          },
          "metadata": {},
          "execution_count": 16
        },
        {
          "output_type": "display_data",
          "data": {
            "text/plain": [
              "<Figure size 640x480 with 1 Axes>"
            ],
            "image/png": "[encoded data removed]"
          },
          "metadata": {}
        }
      ]
    },
    {
      "cell_type": "code",
      "source": [
        "print(type(images))\n",
        "print(images[0].shape)\n",
        "print(labels[0].shape)"
      ],
      "metadata": {
        "colab": {
          "base_uri": "https://localhost:8080/"
        },
        "id": "6azBmubWha7K",
        "outputId": "4146e4dc-0293-4d09-ba8a-94e0e166f5d5"
      },
      "execution_count": 17,
      "outputs": [
        {
          "output_type": "stream",
          "name": "stdout",
          "text": [
            "<class 'torch.Tensor'>\n",
            "torch.Size([1, 28, 28])\n",
            "torch.Size([])\n"
          ]
        }
      ]
    },
    {
      "cell_type": "code",
      "source": [
        "class Model(nn.Module):\n",
        "  def __init__(self) -> None:\n",
        "    super(Model,self).__init__()\n",
        "    self.liner1 = nn.Linear(28*28, 128) #Layer of entrance, 784 neurons that connect to 128\n",
        "    self.liner2 = nn.Linear(128,64) #intern layer 1, 128 neurons that connect to 64\n",
        "    self.liner3 = nn.Linear(64,10) # same, but 64 neurons connect with to 10\n",
        "    return\n",
        "  def forward(self,x):\n",
        "    x = F.relu(self.liner1(x)) # activate function of layer entrance to intern layer 1\n",
        "    x = F.relu(self.liner2(x)) # same, but inter layer 1 to  layer 2\n",
        "    x = self.liner3(x) #and here intern layer 2 to exit layer, this case f(x) = x\n",
        "    return F.log_softmax(x, dim=1)\n"
      ],
      "metadata": {
        "id": "dcPtH4HRiadO"
      },
      "execution_count": 18,
      "outputs": []
    },
    {
      "cell_type": "code",
      "source": [
        "def validate(model, valloader, device):\n",
        "    correct_count, total_count = 0, 0\n",
        "    for images, labels in valloader:\n",
        "        for i in range(len(labels)):\n",
        "            img = images[i].view(1, 784)\n",
        "            # Disable autograd to speed up validation.\n",
        "            # Dynamic computation graphs are computationally expensive.\n",
        "            with torch.no_grad():\n",
        "                logps = model(img.to(device))  # Model output in log scale\n",
        "\n",
        "            ps = torch.exp(logps)  # Convert output to normal scale (it's a tensor)\n",
        "            probabilities = list(ps.cpu().numpy()[0])\n",
        "            predicted_label = probabilities.index(max(probabilities))  # convert the tensor in a number, in this case the number that the model predict as correct\n",
        "            true_label = labels.numpy()[i]\n",
        "\n",
        "            if true_label == predicted_label:  # Compare prediction with the true value\n",
        "                correct_count += 1\n",
        "            total_count += 1\n",
        "\n",
        "    print(\"Total images tested =\", total_count)\n",
        "    print(\"\\nModel accuracy = {}%\".format(correct_count * 100 / total_count))\n"
      ],
      "metadata": {
        "id": "VJ6AtOZZlECP"
      },
      "execution_count": 19,
      "outputs": []
    },
    {
      "cell_type": "code",
      "source": [
        "model = Model()\n",
        "device = torch.device(\"cuda\" if torch.cuda.is_available() else \"cpu\")#cuda is version\n",
        "model.to(device)"
      ],
      "metadata": {
        "colab": {
          "base_uri": "https://localhost:8080/"
        },
        "id": "eDNuRcQyqs8N",
        "outputId": "51dfa291-01a4-4236-d64a-8e5dca3f6dfe"
      },
      "execution_count": 20,
      "outputs": [
        {
          "output_type": "execute_result",
          "data": {
            "text/plain": [
              "Model(\n",
              "  (liner1): Linear(in_features=784, out_features=128, bias=True)\n",
              "  (liner2): Linear(in_features=128, out_features=64, bias=True)\n",
              "  (liner3): Linear(in_features=64, out_features=10, bias=True)\n",
              ")"
            ]
          },
          "metadata": {},
          "execution_count": 20
        }
      ]
    }
  ]
}